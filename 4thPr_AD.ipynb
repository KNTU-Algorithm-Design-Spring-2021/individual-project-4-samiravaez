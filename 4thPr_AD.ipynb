{
 "cells": [
  {
   "cell_type": "code",
   "execution_count": null,
   "outputs": [],
   "source": [
    "def bfs(graph, s, t, parent):\n",
    "    a = []\n",
    "    row = len(graph)\n",
    "    visited = [False]*row\n",
    "\n",
    "    queue = [s]\n",
    "    visited[s] = True\n",
    "\n",
    "    while queue:\n",
    "        u = queue.pop(0)\n",
    "\n",
    "        for ind, val in enumerate(graph[u]):\n",
    "            if visited[ind] == False and val > 0:\n",
    "                queue.append(ind)\n",
    "                visited[ind] = True\n",
    "                parent[ind] = u\n",
    "\n",
    "\n",
    "    return True if visited[t] else False\n",
    "\n",
    "\n",
    "def disjoint_path(graph, source, sink):\n",
    "\n",
    "    row = len(graph)\n",
    "    parent = [-1]*row\n",
    "    max_flow = 0\n",
    "\n",
    "    while bfs(graph, source, sink, parent):\n",
    "        path_flow = float('Inf')\n",
    "        s = sink\n",
    "\n",
    "        while s != source:\n",
    "            path_flow = min(path_flow, graph[parent[s]][s])\n",
    "            s = parent[s]\n",
    "\n",
    "        max_flow += path_flow\n",
    "        v = sink\n",
    "        while v != source:\n",
    "            u = parent[v]\n",
    "            graph[u][v] -= path_flow\n",
    "            graph[v][u] += path_flow\n",
    "            v = parent[v]\n",
    "    return max_flow\n",
    "\n",
    "\n",
    "graph = [[0, 1, 1, 1, 0, 0, 0, 0],\n",
    "\t\t[0, 0, 1, 0, 0, 0, 0, 0],\n",
    "\t\t[0, 0, 0, 1, 0, 0, 1, 0],\n",
    "\t\t[0, 0, 0, 0, 0, 0, 1, 0],\n",
    "\t\t[0, 0, 1, 0, 0, 0, 0, 1],\n",
    "\t\t[0, 1, 0, 0, 0, 0, 0, 1],\n",
    "\t\t[0, 0, 0, 0, 0, 1, 0, 1],\n",
    "\t\t[0, 0, 0, 0, 0, 0, 0, 0]]\n",
    "\n",
    "\n",
    "\n",
    "source = 0\n",
    "sink = 7\n",
    "print (\"There is maximum %d edge-disjoint paths from %d to %d to save the sheep!\" %\n",
    "\t\t\t(disjoint_path(graph, source, sink), source, sink))"
   ],
   "metadata": {
    "collapsed": false,
    "pycharm": {
     "name": "#%%\n"
    }
   }
  }
 ],
 "metadata": {
  "kernelspec": {
   "display_name": "Python 3",
   "language": "python",
   "name": "python3"
  },
  "language_info": {
   "codemirror_mode": {
    "name": "ipython",
    "version": 2
   },
   "file_extension": ".py",
   "mimetype": "text/x-python",
   "name": "python",
   "nbconvert_exporter": "python",
   "pygments_lexer": "ipython2",
   "version": "2.7.6"
  }
 },
 "nbformat": 4,
 "nbformat_minor": 0
}